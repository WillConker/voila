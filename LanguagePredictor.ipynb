{
 "cells": [
  {
   "cell_type": "markdown",
   "id": "e925f5d1",
   "metadata": {},
   "source": [
    "## Simple"
   ]
  },
  {
   "cell_type": "code",
   "execution_count": 94,
   "id": "39a2eb81",
   "metadata": {},
   "outputs": [],
   "source": [
    "with open('alice.txt', 'r') as file:\n",
    "    alice = file.read()"
   ]
  },
  {
   "cell_type": "code",
   "execution_count": 201,
   "id": "d09d5ca1",
   "metadata": {},
   "outputs": [],
   "source": [
    "import random\n",
    "\n",
    "def clean(text, accept = 'abcdefghijklmnopqrstuvwxyz0123456789', spaces = ' \\n\\t\\f/!?,.()\\\\—-'):\n",
    "    out = ' '\n",
    "    for letter in text:\n",
    "        if letter.lower() in accept:\n",
    "            out += letter.lower()\n",
    "        elif letter in spaces and not out[-1] == ' ':\n",
    "            out += ' '\n",
    "    return out.strip()\n",
    "\n",
    "def generate(links, length, start=None, space=' '):\n",
    "    if not (hasattr(start, '__iter__') and tuple(start)[-len(random.choice(list(links.keys()))):] in links):\n",
    "        prev = random.choice(list(links.keys()))\n",
    "    else:\n",
    "        prev = start\n",
    "    out = ''\n",
    "    for n in range(length):\n",
    "        prev = random.choice(links[prev])\n",
    "        out += prev[-1] + ' '\n",
    "    return out[:-1]\n",
    "\n",
    "def simple(text, depth):\n",
    "    words = tuple(clean(text).split(' '))\n",
    "    links = {}\n",
    "    for i in range(depth, len(words)):\n",
    "        links.setdefault(words[i-depth:i], tuple())\n",
    "        links[words[i-depth:i]] = links[words[i-depth:i]]+(words[i-depth+1:i+1],)\n",
    "    links[words[len(words)-depth:len(words)]] = links[words[:depth]]\n",
    "    lkeys = list(links.keys())\n",
    "    choose = lambda prev, text, n: choose(random.choice(links[prev]), text+prev[-1:], n-1) if n>0 else text\n",
    "    return lambda length, start=None: generate(links, length, start)"
   ]
  },
  {
   "cell_type": "code",
   "execution_count": 202,
   "id": "09d7a674",
   "metadata": {},
   "outputs": [],
   "source": [
    "l = simple(alice, 3)"
   ]
  },
  {
   "cell_type": "code",
   "execution_count": 212,
   "id": "348f5cbc",
   "metadata": {},
   "outputs": [],
   "source": [
    "def on_button_click(button):\n",
    "    out.clear_output()\n",
    "    out.append_stdout(l(inttext.value))"
   ]
  },
  {
   "cell_type": "code",
   "execution_count": 111,
   "id": "6bfe78e9",
   "metadata": {},
   "outputs": [],
   "source": [
    "import ipywidgets as widgets"
   ]
  },
  {
   "cell_type": "code",
   "execution_count": 233,
   "id": "b0495379",
   "metadata": {},
   "outputs": [],
   "source": [
    "button = widgets.Button(\n",
    "    value=False,\n",
    "    description='Generate text',\n",
    "    disabled=False,\n",
    "    button_style='info', # 'success', 'info', 'warning', 'danger' or ''\n",
    "    tooltip='Generate text',\n",
    "    icon='pencil' # (FontAwesome names without the `fa-` prefix))\n",
    ")\n",
    "inttext = widgets.BoundedIntText(\n",
    "    value=7,\n",
    "    min=10,\n",
    "    max=10000,\n",
    "    description='Words:',\n",
    "    disabled=False\n",
    ")\n",
    "out = widgets.Output(layout={'border': '1px solid black'})\n",
    "button.on_click(on_button_click)\n",
    "w3 = widgets.HBox((button, inttext))\n",
    "w4 = widgets.VBox((w3, out))"
   ]
  },
  {
   "cell_type": "code",
   "execution_count": 234,
   "id": "e7185c9d",
   "metadata": {},
   "outputs": [
    {
     "data": {
      "application/vnd.jupyter.widget-view+json": {
       "model_id": "49ff3009405c4d60809a86c632fe5582",
       "version_major": 2,
       "version_minor": 0
      },
      "text/plain": [
       "VBox(children=(HBox(children=(Button(button_style='info', description='Generate text', icon='pencil', style=Bu…"
      ]
     },
     "metadata": {},
     "output_type": "display_data"
    }
   ],
   "source": [
    "display(w4)"
   ]
  },
  {
   "cell_type": "code",
   "execution_count": 219,
   "id": "0d35bafd",
   "metadata": {},
   "outputs": [],
   "source": [
    "#w._click_handlers.callbacks = []"
   ]
  }
 ],
 "metadata": {
  "kernelspec": {
   "display_name": "Python 3 (ipykernel)",
   "language": "python",
   "name": "python3"
  },
  "language_info": {
   "codemirror_mode": {
    "name": "ipython",
    "version": 3
   },
   "file_extension": ".py",
   "mimetype": "text/x-python",
   "name": "python",
   "nbconvert_exporter": "python",
   "pygments_lexer": "ipython3",
   "version": "3.9.7"
  }
 },
 "nbformat": 4,
 "nbformat_minor": 5
}
